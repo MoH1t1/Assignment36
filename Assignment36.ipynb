{
  "metadata": {
    "kernelspec": {
      "name": "python",
      "display_name": "Python (Pyodide)",
      "language": "python"
    },
    "language_info": {
      "codemirror_mode": {
        "name": "python",
        "version": 3
      },
      "file_extension": ".py",
      "mimetype": "text/x-python",
      "name": "python",
      "nbconvert_exporter": "python",
      "pygments_lexer": "ipython3",
      "version": "3.8"
    }
  },
  "nbformat_minor": 4,
  "nbformat": 4,
  "cells": [
    {
      "cell_type": "code",
      "source": "# Q1: Explain the following with an example: Artificial Intelligenc, Machine Learnin, Deep Learning\n\nArtificial Intelligence (AI): The simulation of human intelligence processes by machines. Example: A chatbot answering customer queries.\nMachine Learning (ML): A subset of AI where machines learn from data to improve performance over time. Example: Email spam detection.\nDeep Learning (DL): A subset of ML using neural networks with many layers to model complex patterns. Example: Image recognition in self-driving cars.\n    \n# Q2: What is supervised learning? List some examples of supervised learning.\nSupervised Learning: A type of ML where the model is trained on labeled data (input-output pairs). Examples: Linear regression, decision trees, and classification \ntasks like spam email detection.\n    \n# Q3: What is unsupervised learning? List some examples of unsupervised learning.\nUnsupervised Learning: A type of ML where the model is trained on unlabeled data to find hidden patterns. Examples: Clustering (e.g., K-means) and dimensionality\nreduction (e.g., PCA).\n\n# Q4: What is the difference between AI, ML, DL, and DS?\nAI: Broad field of making machines intelligent.\nML: A subfield of AI that focuses on learning from data.\nDL: A subset of ML using deep neural networks.\nDS (Data Science): The field of extracting knowledge and insights from data using various techniques, including AI, ML, and statistics.\n\n# Q5: What are the main differences between supervised, unsupervised, and semi-supervised learning?\nSupervised Learning: Uses labeled data for training.\nUnsupervised Learning: Uses unlabeled data to find patterns.\nSemi-supervised Learning: Uses both labeled and unlabeled data for training, typically when labeled data is scarce.\n\n# Q6: What is train, test and validation split? Explain the importance of each term.\nTrain Split: Data used to train the model.\nTest Split: Data used to evaluate model performance.\nValidation Split: Data used to tune the model's hyperparameters. Each split helps ensure the model generalizes well and prevents overfitting.\n\n# Q7: How can unsupervised learning be used in anomaly detection?\nUnsupervised learning can identify outliers by finding patterns in data without labels. Methods like clustering (e.g., K-means) can group normal behavior, and \nanything that doesn't fit the pattern is flagged as an anomaly.\n    \n# Q8: List down some commonly used supervised learning algorithms and unsupervised learning algorithms.\n\nSupervised Learning Algorithms: Linear regression, logistic regression, support vector machines (SVM), decision trees, random forests, k-nearest neighbors (KNN).\nUnsupervised Learning Algorithms: K-means clustering, hierarchical clustering, principal component analysis (PCA), DBSCAN.",
      "metadata": {
        "trusted": true
      },
      "outputs": [],
      "execution_count": null
    }
  ]
}